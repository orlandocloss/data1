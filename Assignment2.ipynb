{
 "cells": [
  {
   "cell_type": "markdown",
   "metadata": {},
   "source": [
    "\n",
    "\n",
    "## Assignment 2: Data, Grammar and Engineering\n",
    "\n",
    "**AMS MADE YMS31303**<br>\n",
    "**Q1 2024**<br>\n",
    "**Instructor:** Theodoros Chatzivasileiadis <br>\n",
    "**Instructor:** Hans Hoogenboom <br>\n",
    "**TA:** Ka Yi Chua <br>\n",
    "**[Metropolitan Data 1](https://jhoogenboom.github.io/spatial-data-science/_index.html)** <br>\n",
    "\n",
    "---\n",
    "\n"
   ]
  },
  {
   "cell_type": "markdown",
   "metadata": {},
   "source": [
    "## Question 1\n",
    "\n",
    "We will work with data from the Guardian's version of [Wikileaks' Afghanistan war logs](http://www.theguardian.com/news/datablog/2010/jul/27/wikileaks-afghanistan-data-datajournalism). The table is stored on a GoogleDoc on the following address:\n",
    "\n",
    "> [https://docs.google.com/spreadsheets/d/1EAx8_ksSCmoWW_SlhFyq2QrRn0FNNhcg1TtDFJzZRgc/edit?hl=en#gid=1](https://docs.google.com/spreadsheets/d/1EAx8_ksSCmoWW_SlhFyq2QrRn0FNNhcg1TtDFJzZRgc/edit?hl=en#gid=1)\n",
    "\n",
    "Write a Python code snippet using IPython.display to embed this Google Sheet directly into a Jupyter notebook for easy reference and interaction."
   ]
  },
  {
   "cell_type": "code",
   "execution_count": 76,
   "metadata": {},
   "outputs": [
    {
     "data": {
      "text/html": [
       "\n",
       "        <iframe\n",
       "            width=\"800\"\n",
       "            height=\"500\"\n",
       "            src=\"https://docs.google.com/spreadsheets/d/1EAx8_ksSCmoWW_SlhFyq2QrRn0FNNhcg1TtDFJzZRgc/edit?hl=en#gid=1\"\n",
       "            frameborder=\"0\"\n",
       "            allowfullscreen\n",
       "            \n",
       "        ></iframe>\n",
       "        "
      ],
      "text/plain": [
       "<IPython.lib.display.IFrame at 0x79224baa3880>"
      ]
     },
     "execution_count": 76,
     "metadata": {},
     "output_type": "execute_result"
    }
   ],
   "source": [
    "from IPython.display import IFrame #import IFrame\n",
    "\n",
    "url = \"https://docs.google.com/spreadsheets/d/1EAx8_ksSCmoWW_SlhFyq2QrRn0FNNhcg1TtDFJzZRgc/edit?hl=en#gid=1\" #saving url to variable\n",
    "\n",
    "IFrame(url, width=800, height=500) #load screen"
   ]
  },
  {
   "cell_type": "markdown",
   "metadata": {},
   "source": [
    "\n",
    "## Question 2\n",
    "a) Save the csv file to your compluter and Load the data in Tab \"TOTAL Casualties\".\n",
    "\n",
    "b) Display the first 5 rows of the dataset using .head().\n",
    "\n",
    "c) Extract the column names and create a dictionary where each column name is the key, and the first value in that column is the value."
   ]
  },
  {
   "cell_type": "markdown",
   "metadata": {},
   "source": [
    "### 2 Load, display and clean wikileaks table"
   ]
  },
  {
   "cell_type": "markdown",
   "metadata": {},
   "source": [
    "a) raw load"
   ]
  },
  {
   "cell_type": "code",
   "execution_count": 77,
   "metadata": {},
   "outputs": [
    {
     "data": {
      "text/html": [
       "<div>\n",
       "<style scoped>\n",
       "    .dataframe tbody tr th:only-of-type {\n",
       "        vertical-align: middle;\n",
       "    }\n",
       "\n",
       "    .dataframe tbody tr th {\n",
       "        vertical-align: top;\n",
       "    }\n",
       "\n",
       "    .dataframe thead th {\n",
       "        text-align: right;\n",
       "    }\n",
       "</style>\n",
       "<table border=\"1\" class=\"dataframe\">\n",
       "  <thead>\n",
       "    <tr style=\"text-align: right;\">\n",
       "      <th></th>\n",
       "      <th>Casualties detailed in the war logs, month by month</th>\n",
       "      <th>Unnamed: 1</th>\n",
       "      <th>Unnamed: 2</th>\n",
       "      <th>Unnamed: 3</th>\n",
       "      <th>Unnamed: 4</th>\n",
       "      <th>Unnamed: 5</th>\n",
       "      <th>Unnamed: 6</th>\n",
       "    </tr>\n",
       "  </thead>\n",
       "  <tbody>\n",
       "    <tr>\n",
       "      <th>0</th>\n",
       "      <td>Year</td>\n",
       "      <td>Month</td>\n",
       "      <td>Taliban</td>\n",
       "      <td>Civilians</td>\n",
       "      <td>Afghan forces</td>\n",
       "      <td>Nato (detailed in spreadsheet)</td>\n",
       "      <td>Nato - official figures</td>\n",
       "    </tr>\n",
       "    <tr>\n",
       "      <th>1</th>\n",
       "      <td>2004</td>\n",
       "      <td>January</td>\n",
       "      <td>15</td>\n",
       "      <td>51</td>\n",
       "      <td>23</td>\n",
       "      <td>NaN</td>\n",
       "      <td>11</td>\n",
       "    </tr>\n",
       "    <tr>\n",
       "      <th>2</th>\n",
       "      <td>2004</td>\n",
       "      <td>February</td>\n",
       "      <td>NaN</td>\n",
       "      <td>7</td>\n",
       "      <td>4</td>\n",
       "      <td>5</td>\n",
       "      <td>2</td>\n",
       "    </tr>\n",
       "    <tr>\n",
       "      <th>3</th>\n",
       "      <td>2004</td>\n",
       "      <td>March</td>\n",
       "      <td>19</td>\n",
       "      <td>2</td>\n",
       "      <td>NaN</td>\n",
       "      <td>2</td>\n",
       "      <td>3</td>\n",
       "    </tr>\n",
       "    <tr>\n",
       "      <th>4</th>\n",
       "      <td>2004</td>\n",
       "      <td>April</td>\n",
       "      <td>5</td>\n",
       "      <td>3</td>\n",
       "      <td>19</td>\n",
       "      <td>NaN</td>\n",
       "      <td>3</td>\n",
       "    </tr>\n",
       "  </tbody>\n",
       "</table>\n",
       "</div>"
      ],
      "text/plain": [
       "  Casualties detailed in the war logs, month by month Unnamed: 1 Unnamed: 2  \\\n",
       "0                                               Year       Month    Taliban   \n",
       "1                                               2004     January         15   \n",
       "2                                               2004    February        NaN   \n",
       "3                                               2004       March         19   \n",
       "4                                               2004       April          5   \n",
       "\n",
       "  Unnamed: 3     Unnamed: 4                      Unnamed: 5  \\\n",
       "0  Civilians  Afghan forces  Nato (detailed in spreadsheet)   \n",
       "1         51             23                             NaN   \n",
       "2          7              4                               5   \n",
       "3          2            NaN                               2   \n",
       "4          3             19                             NaN   \n",
       "\n",
       "                Unnamed: 6  \n",
       "0  Nato - official figures  \n",
       "1                       11  \n",
       "2                        2  \n",
       "3                        3  \n",
       "4                        3  "
      ]
     },
     "execution_count": 77,
     "metadata": {},
     "output_type": "execute_result"
    }
   ],
   "source": [
    "import pandas as pd\n",
    "\n",
    "wikileaks_dataframe=pd.read_csv(\"wikileaks.csv\") #loading original\n",
    "\n",
    "wikileaks_dataframe.head() #display first 5 rows "
   ]
  },
  {
   "cell_type": "markdown",
   "metadata": {},
   "source": [
    "b) Change columns, as they weren't the desired names."
   ]
  },
  {
   "cell_type": "code",
   "execution_count": 78,
   "metadata": {},
   "outputs": [
    {
     "data": {
      "text/html": [
       "<div>\n",
       "<style scoped>\n",
       "    .dataframe tbody tr th:only-of-type {\n",
       "        vertical-align: middle;\n",
       "    }\n",
       "\n",
       "    .dataframe tbody tr th {\n",
       "        vertical-align: top;\n",
       "    }\n",
       "\n",
       "    .dataframe thead th {\n",
       "        text-align: right;\n",
       "    }\n",
       "</style>\n",
       "<table border=\"1\" class=\"dataframe\">\n",
       "  <thead>\n",
       "    <tr style=\"text-align: right;\">\n",
       "      <th></th>\n",
       "      <th>Year</th>\n",
       "      <th>Month</th>\n",
       "      <th>Taliban</th>\n",
       "      <th>Civilians</th>\n",
       "      <th>Afghan forces</th>\n",
       "      <th>Nato (detailed in spreadsheet)</th>\n",
       "      <th>Nato - official figures</th>\n",
       "    </tr>\n",
       "  </thead>\n",
       "  <tbody>\n",
       "    <tr>\n",
       "      <th>0</th>\n",
       "      <td>2004.0</td>\n",
       "      <td>January</td>\n",
       "      <td>15</td>\n",
       "      <td>51</td>\n",
       "      <td>23</td>\n",
       "      <td>NaN</td>\n",
       "      <td>11.0</td>\n",
       "    </tr>\n",
       "    <tr>\n",
       "      <th>1</th>\n",
       "      <td>2004.0</td>\n",
       "      <td>February</td>\n",
       "      <td>NaN</td>\n",
       "      <td>7</td>\n",
       "      <td>4</td>\n",
       "      <td>5</td>\n",
       "      <td>2.0</td>\n",
       "    </tr>\n",
       "    <tr>\n",
       "      <th>2</th>\n",
       "      <td>2004.0</td>\n",
       "      <td>March</td>\n",
       "      <td>19</td>\n",
       "      <td>2</td>\n",
       "      <td>NaN</td>\n",
       "      <td>2</td>\n",
       "      <td>3.0</td>\n",
       "    </tr>\n",
       "    <tr>\n",
       "      <th>3</th>\n",
       "      <td>2004.0</td>\n",
       "      <td>April</td>\n",
       "      <td>5</td>\n",
       "      <td>3</td>\n",
       "      <td>19</td>\n",
       "      <td>NaN</td>\n",
       "      <td>3.0</td>\n",
       "    </tr>\n",
       "    <tr>\n",
       "      <th>4</th>\n",
       "      <td>2004.0</td>\n",
       "      <td>May</td>\n",
       "      <td>18</td>\n",
       "      <td>29</td>\n",
       "      <td>56</td>\n",
       "      <td>6</td>\n",
       "      <td>9.0</td>\n",
       "    </tr>\n",
       "  </tbody>\n",
       "</table>\n",
       "</div>"
      ],
      "text/plain": [
       "     Year     Month Taliban Civilians Afghan forces  \\\n",
       "0  2004.0   January      15        51            23   \n",
       "1  2004.0  February     NaN         7             4   \n",
       "2  2004.0     March      19         2           NaN   \n",
       "3  2004.0     April       5         3            19   \n",
       "4  2004.0       May      18        29            56   \n",
       "\n",
       "  Nato (detailed in spreadsheet)  Nato - official figures  \n",
       "0                            NaN                     11.0  \n",
       "1                              5                      2.0  \n",
       "2                              2                      3.0  \n",
       "3                            NaN                      3.0  \n",
       "4                              6                      9.0  "
      ]
     },
     "execution_count": 78,
     "metadata": {},
     "output_type": "execute_result"
    }
   ],
   "source": [
    "wikileaks_dataframe=pd.read_csv(\"wikileaks.csv\", header=1) #adjust column names to correct\n",
    "wikileaks_dataframe.head() #display first 5 rows"
   ]
  },
  {
   "cell_type": "markdown",
   "metadata": {},
   "source": [
    "c) Table correct columns, make dictionary"
   ]
  },
  {
   "cell_type": "code",
   "execution_count": 79,
   "metadata": {},
   "outputs": [
    {
     "name": "stdout",
     "output_type": "stream",
     "text": [
      "{'Year': np.float64(2004.0), 'Month': 'January', 'Taliban': '15', 'Civilians': '51', 'Afghan forces': '23', 'Nato (detailed in spreadsheet)': nan, 'Nato - official figures': np.float64(11.0)}\n"
     ]
    }
   ],
   "source": [
    "dictionary = {} #empty dictionary to load with first row values\n",
    "\n",
    "column_names = list(wikileaks_dataframe.columns) #make columns list #https://www.geeksforgeeks.org/how-to-get-column-names-in-pandas-dataframe/\n",
    "\n",
    "for column in column_names: #go through each column\n",
    "    dictionary[column] = wikileaks_dataframe[column].iloc[0] #grab first item from that column #https://www.geeksforgeeks.org/how-to-get-first-row-of-pandas-dataframe/\n",
    "\n",
    "print(dictionary)"
   ]
  },
  {
   "cell_type": "markdown",
   "metadata": {},
   "source": [
    "d) Clean: extract total values, fill NaN values with 0, make all numbers integers as you cannot have 0.5 years or 0.5 people."
   ]
  },
  {
   "cell_type": "code",
   "execution_count": 80,
   "metadata": {},
   "outputs": [
    {
     "data": {
      "text/html": [
       "<div>\n",
       "<style scoped>\n",
       "    .dataframe tbody tr th:only-of-type {\n",
       "        vertical-align: middle;\n",
       "    }\n",
       "\n",
       "    .dataframe tbody tr th {\n",
       "        vertical-align: top;\n",
       "    }\n",
       "\n",
       "    .dataframe thead th {\n",
       "        text-align: right;\n",
       "    }\n",
       "</style>\n",
       "<table border=\"1\" class=\"dataframe\">\n",
       "  <thead>\n",
       "    <tr style=\"text-align: right;\">\n",
       "      <th></th>\n",
       "      <th>Year</th>\n",
       "      <th>Month</th>\n",
       "      <th>Taliban</th>\n",
       "      <th>Civilians</th>\n",
       "      <th>Afghan forces</th>\n",
       "      <th>Nato (detailed in spreadsheet)</th>\n",
       "      <th>Nato - official figures</th>\n",
       "    </tr>\n",
       "  </thead>\n",
       "  <tbody>\n",
       "    <tr>\n",
       "      <th>68</th>\n",
       "      <td>2009.0</td>\n",
       "      <td>September</td>\n",
       "      <td>614</td>\n",
       "      <td>197</td>\n",
       "      <td>133</td>\n",
       "      <td>54</td>\n",
       "      <td>70.0</td>\n",
       "    </tr>\n",
       "    <tr>\n",
       "      <th>69</th>\n",
       "      <td>2009.0</td>\n",
       "      <td>October</td>\n",
       "      <td>462</td>\n",
       "      <td>107</td>\n",
       "      <td>86</td>\n",
       "      <td>76</td>\n",
       "      <td>74.0</td>\n",
       "    </tr>\n",
       "    <tr>\n",
       "      <th>70</th>\n",
       "      <td>2009.0</td>\n",
       "      <td>November</td>\n",
       "      <td>410</td>\n",
       "      <td>120</td>\n",
       "      <td>69</td>\n",
       "      <td>30</td>\n",
       "      <td>32.0</td>\n",
       "    </tr>\n",
       "    <tr>\n",
       "      <th>71</th>\n",
       "      <td>2009.0</td>\n",
       "      <td>December</td>\n",
       "      <td>287</td>\n",
       "      <td>87</td>\n",
       "      <td>65</td>\n",
       "      <td>33</td>\n",
       "      <td>35.0</td>\n",
       "    </tr>\n",
       "    <tr>\n",
       "      <th>72</th>\n",
       "      <td>NaN</td>\n",
       "      <td>24498</td>\n",
       "      <td>15,507</td>\n",
       "      <td>4,024</td>\n",
       "      <td>3,820</td>\n",
       "      <td>1,147</td>\n",
       "      <td>NaN</td>\n",
       "    </tr>\n",
       "  </tbody>\n",
       "</table>\n",
       "</div>"
      ],
      "text/plain": [
       "      Year      Month Taliban Civilians Afghan forces  \\\n",
       "68  2009.0  September     614       197           133   \n",
       "69  2009.0    October     462       107            86   \n",
       "70  2009.0   November     410       120            69   \n",
       "71  2009.0   December     287        87            65   \n",
       "72     NaN      24498  15,507     4,024         3,820   \n",
       "\n",
       "   Nato (detailed in spreadsheet)  Nato - official figures  \n",
       "68                             54                     70.0  \n",
       "69                             76                     74.0  \n",
       "70                             30                     32.0  \n",
       "71                             33                     35.0  \n",
       "72                          1,147                      NaN  "
      ]
     },
     "execution_count": 80,
     "metadata": {},
     "output_type": "execute_result"
    }
   ],
   "source": [
    "wikileaks_dataframe.tail() #check bottom, as error found in totals, \",\" and in wrong columns"
   ]
  },
  {
   "cell_type": "code",
   "execution_count": 81,
   "metadata": {},
   "outputs": [
    {
     "name": "stderr",
     "output_type": "stream",
     "text": [
      "/tmp/ipykernel_45170/107033045.py:8: FutureWarning: A value is trying to be set on a copy of a DataFrame or Series through chained assignment using an inplace method.\n",
      "The behavior will change in pandas 3.0. This inplace method will never work because the intermediate object on which we are setting values always behaves as a copy.\n",
      "\n",
      "For example, when doing 'df[col].method(value, inplace=True)', try using 'df.method({col: value}, inplace=True)' or df[col] = df[col].method(value) instead, to perform the operation inplace on the original object.\n",
      "\n",
      "\n",
      "  wikileaks_dataframe[column].fillna(0, inplace=True) #fill NaN with 0\n",
      "/tmp/ipykernel_45170/107033045.py:8: FutureWarning: A value is trying to be set on a copy of a DataFrame or Series through chained assignment using an inplace method.\n",
      "The behavior will change in pandas 3.0. This inplace method will never work because the intermediate object on which we are setting values always behaves as a copy.\n",
      "\n",
      "For example, when doing 'df[col].method(value, inplace=True)', try using 'df.method({col: value}, inplace=True)' or df[col] = df[col].method(value) instead, to perform the operation inplace on the original object.\n",
      "\n",
      "\n",
      "  wikileaks_dataframe[column].fillna(0, inplace=True) #fill NaN with 0\n",
      "/tmp/ipykernel_45170/107033045.py:8: FutureWarning: A value is trying to be set on a copy of a DataFrame or Series through chained assignment using an inplace method.\n",
      "The behavior will change in pandas 3.0. This inplace method will never work because the intermediate object on which we are setting values always behaves as a copy.\n",
      "\n",
      "For example, when doing 'df[col].method(value, inplace=True)', try using 'df.method({col: value}, inplace=True)' or df[col] = df[col].method(value) instead, to perform the operation inplace on the original object.\n",
      "\n",
      "\n",
      "  wikileaks_dataframe[column].fillna(0, inplace=True) #fill NaN with 0\n",
      "/tmp/ipykernel_45170/107033045.py:8: FutureWarning: A value is trying to be set on a copy of a DataFrame or Series through chained assignment using an inplace method.\n",
      "The behavior will change in pandas 3.0. This inplace method will never work because the intermediate object on which we are setting values always behaves as a copy.\n",
      "\n",
      "For example, when doing 'df[col].method(value, inplace=True)', try using 'df.method({col: value}, inplace=True)' or df[col] = df[col].method(value) instead, to perform the operation inplace on the original object.\n",
      "\n",
      "\n",
      "  wikileaks_dataframe[column].fillna(0, inplace=True) #fill NaN with 0\n",
      "/tmp/ipykernel_45170/107033045.py:8: FutureWarning: A value is trying to be set on a copy of a DataFrame or Series through chained assignment using an inplace method.\n",
      "The behavior will change in pandas 3.0. This inplace method will never work because the intermediate object on which we are setting values always behaves as a copy.\n",
      "\n",
      "For example, when doing 'df[col].method(value, inplace=True)', try using 'df.method({col: value}, inplace=True)' or df[col] = df[col].method(value) instead, to perform the operation inplace on the original object.\n",
      "\n",
      "\n",
      "  wikileaks_dataframe[column].fillna(0, inplace=True) #fill NaN with 0\n",
      "/tmp/ipykernel_45170/107033045.py:8: FutureWarning: A value is trying to be set on a copy of a DataFrame or Series through chained assignment using an inplace method.\n",
      "The behavior will change in pandas 3.0. This inplace method will never work because the intermediate object on which we are setting values always behaves as a copy.\n",
      "\n",
      "For example, when doing 'df[col].method(value, inplace=True)', try using 'df.method({col: value}, inplace=True)' or df[col] = df[col].method(value) instead, to perform the operation inplace on the original object.\n",
      "\n",
      "\n",
      "  wikileaks_dataframe[column].fillna(0, inplace=True) #fill NaN with 0\n"
     ]
    },
    {
     "data": {
      "text/html": [
       "<div>\n",
       "<style scoped>\n",
       "    .dataframe tbody tr th:only-of-type {\n",
       "        vertical-align: middle;\n",
       "    }\n",
       "\n",
       "    .dataframe tbody tr th {\n",
       "        vertical-align: top;\n",
       "    }\n",
       "\n",
       "    .dataframe thead th {\n",
       "        text-align: right;\n",
       "    }\n",
       "</style>\n",
       "<table border=\"1\" class=\"dataframe\">\n",
       "  <thead>\n",
       "    <tr style=\"text-align: right;\">\n",
       "      <th></th>\n",
       "      <th>Year</th>\n",
       "      <th>Month</th>\n",
       "      <th>Taliban</th>\n",
       "      <th>Civilians</th>\n",
       "      <th>Afghan forces</th>\n",
       "      <th>Nato (detailed in spreadsheet)</th>\n",
       "      <th>Nato - official figures</th>\n",
       "    </tr>\n",
       "  </thead>\n",
       "  <tbody>\n",
       "    <tr>\n",
       "      <th>67</th>\n",
       "      <td>2009</td>\n",
       "      <td>August</td>\n",
       "      <td>445</td>\n",
       "      <td>206</td>\n",
       "      <td>190</td>\n",
       "      <td>64</td>\n",
       "      <td>77</td>\n",
       "    </tr>\n",
       "    <tr>\n",
       "      <th>68</th>\n",
       "      <td>2009</td>\n",
       "      <td>September</td>\n",
       "      <td>614</td>\n",
       "      <td>197</td>\n",
       "      <td>133</td>\n",
       "      <td>54</td>\n",
       "      <td>70</td>\n",
       "    </tr>\n",
       "    <tr>\n",
       "      <th>69</th>\n",
       "      <td>2009</td>\n",
       "      <td>October</td>\n",
       "      <td>462</td>\n",
       "      <td>107</td>\n",
       "      <td>86</td>\n",
       "      <td>76</td>\n",
       "      <td>74</td>\n",
       "    </tr>\n",
       "    <tr>\n",
       "      <th>70</th>\n",
       "      <td>2009</td>\n",
       "      <td>November</td>\n",
       "      <td>410</td>\n",
       "      <td>120</td>\n",
       "      <td>69</td>\n",
       "      <td>30</td>\n",
       "      <td>32</td>\n",
       "    </tr>\n",
       "    <tr>\n",
       "      <th>71</th>\n",
       "      <td>2009</td>\n",
       "      <td>December</td>\n",
       "      <td>287</td>\n",
       "      <td>87</td>\n",
       "      <td>65</td>\n",
       "      <td>33</td>\n",
       "      <td>35</td>\n",
       "    </tr>\n",
       "  </tbody>\n",
       "</table>\n",
       "</div>"
      ],
      "text/plain": [
       "    Year      Month  Taliban  Civilians  Afghan forces  \\\n",
       "67  2009     August      445        206            190   \n",
       "68  2009  September      614        197            133   \n",
       "69  2009    October      462        107             86   \n",
       "70  2009   November      410        120             69   \n",
       "71  2009   December      287         87             65   \n",
       "\n",
       "    Nato (detailed in spreadsheet)  Nato - official figures  \n",
       "67                              64                       77  \n",
       "68                              54                       70  \n",
       "69                              76                       74  \n",
       "70                              30                       32  \n",
       "71                              33                       35  "
      ]
     },
     "execution_count": 81,
     "metadata": {},
     "output_type": "execute_result"
    }
   ],
   "source": [
    "totals =  wikileaks_dataframe.iloc[-1] #save totals potentially for later\n",
    "\n",
    "wikileaks_dataframe = wikileaks_dataframe.drop(index=72)  # removes the last row, index 72 is the index of this totals row\n",
    "\n",
    "column_names.remove(\"Month\") #remove Month as is correctly a string and does not need to be cleaned\n",
    "\n",
    "for column in column_names: #for every column that need to be cleaned\n",
    "    wikileaks_dataframe[column].fillna(0, inplace=True) #fill NaN with 0\n",
    "    wikileaks_dataframe[column] = wikileaks_dataframe[column].astype(int) #change the float or string to integer\n",
    "\n",
    "wikileaks_dataframe.tail() #display last 5 rows to check correctly cleaning and that totals has been dropped."
   ]
  },
  {
   "cell_type": "markdown",
   "metadata": {},
   "source": [
    "## Question 3\n",
    "a) Plot a histogram of any numeric column from the dataset.\n",
    "\n",
    "b) Use a kernel density plot (KDE) to visualize the distribution of another numeric column.\n",
    "\n",
    "c) Create a bar chart of a categorical variable and discuss how the plot changes if you switch to a horizontal bar plot."
   ]
  },
  {
   "cell_type": "markdown",
   "metadata": {},
   "source": [
    "a) Histogram"
   ]
  },
  {
   "cell_type": "code",
   "execution_count": 82,
   "metadata": {},
   "outputs": [],
   "source": [
    "import seaborn as sns"
   ]
  },
  {
   "cell_type": "code",
   "execution_count": 83,
   "metadata": {},
   "outputs": [
    {
     "data": {
      "image/png": "[encoded data removed]",
      "text/plain": [
       "<Figure size 500x500 with 1 Axes>"
      ]
     },
     "metadata": {},
     "output_type": "display_data"
    }
   ],
   "source": [
    "_ = sns.displot(wikileaks_dataframe['Taliban'], kde=False, rug=True) #plot historgram of Taliban casualities (from lab-01-part-01)"
   ]
  },
  {
   "cell_type": "markdown",
   "metadata": {},
   "source": [
    "b) kde"
   ]
  },
  {
   "cell_type": "code",
   "execution_count": 84,
   "metadata": {},
   "outputs": [
    {
     "data": {
      "image/png": "[encoded data removed]",
      "text/plain": [
       "<Figure size 640x480 with 1 Axes>"
      ]
     },
     "metadata": {},
     "output_type": "display_data"
    }
   ],
   "source": [
    "_ = sns.kdeplot(wikileaks_dataframe['Civilians'], fill=True) #plot kernel density plot of Civilian casualities (from lab-01-part-01)"
   ]
  },
  {
   "cell_type": "markdown",
   "metadata": {},
   "source": [
    "c) Bar and bar-h of categorical variable (casualities per month)"
   ]
  },
  {
   "cell_type": "code",
   "execution_count": 85,
   "metadata": {},
   "outputs": [
    {
     "data": {
      "text/html": [
       "<div>\n",
       "<style scoped>\n",
       "    .dataframe tbody tr th:only-of-type {\n",
       "        vertical-align: middle;\n",
       "    }\n",
       "\n",
       "    .dataframe tbody tr th {\n",
       "        vertical-align: top;\n",
       "    }\n",
       "\n",
       "    .dataframe thead th {\n",
       "        text-align: right;\n",
       "    }\n",
       "</style>\n",
       "<table border=\"1\" class=\"dataframe\">\n",
       "  <thead>\n",
       "    <tr style=\"text-align: right;\">\n",
       "      <th></th>\n",
       "      <th>Year</th>\n",
       "      <th>Month</th>\n",
       "      <th>Taliban</th>\n",
       "      <th>Civilians</th>\n",
       "      <th>Afghan forces</th>\n",
       "      <th>Nato (detailed in spreadsheet)</th>\n",
       "      <th>Nato - official figures</th>\n",
       "    </tr>\n",
       "  </thead>\n",
       "  <tbody>\n",
       "    <tr>\n",
       "      <th>0</th>\n",
       "      <td>2004</td>\n",
       "      <td>January</td>\n",
       "      <td>15</td>\n",
       "      <td>51</td>\n",
       "      <td>23</td>\n",
       "      <td>0</td>\n",
       "      <td>11</td>\n",
       "    </tr>\n",
       "    <tr>\n",
       "      <th>1</th>\n",
       "      <td>2004</td>\n",
       "      <td>February</td>\n",
       "      <td>0</td>\n",
       "      <td>7</td>\n",
       "      <td>4</td>\n",
       "      <td>5</td>\n",
       "      <td>2</td>\n",
       "    </tr>\n",
       "    <tr>\n",
       "      <th>2</th>\n",
       "      <td>2004</td>\n",
       "      <td>March</td>\n",
       "      <td>19</td>\n",
       "      <td>2</td>\n",
       "      <td>0</td>\n",
       "      <td>2</td>\n",
       "      <td>3</td>\n",
       "    </tr>\n",
       "    <tr>\n",
       "      <th>3</th>\n",
       "      <td>2004</td>\n",
       "      <td>April</td>\n",
       "      <td>5</td>\n",
       "      <td>3</td>\n",
       "      <td>19</td>\n",
       "      <td>0</td>\n",
       "      <td>3</td>\n",
       "    </tr>\n",
       "    <tr>\n",
       "      <th>4</th>\n",
       "      <td>2004</td>\n",
       "      <td>May</td>\n",
       "      <td>18</td>\n",
       "      <td>29</td>\n",
       "      <td>56</td>\n",
       "      <td>6</td>\n",
       "      <td>9</td>\n",
       "    </tr>\n",
       "  </tbody>\n",
       "</table>\n",
       "</div>"
      ],
      "text/plain": [
       "   Year     Month  Taliban  Civilians  Afghan forces  \\\n",
       "0  2004   January       15         51             23   \n",
       "1  2004  February        0          7              4   \n",
       "2  2004     March       19          2              0   \n",
       "3  2004     April        5          3             19   \n",
       "4  2004       May       18         29             56   \n",
       "\n",
       "   Nato (detailed in spreadsheet)  Nato - official figures  \n",
       "0                               0                       11  \n",
       "1                               5                        2  \n",
       "2                               2                        3  \n",
       "3                               0                        3  \n",
       "4                               6                        9  "
      ]
     },
     "execution_count": 85,
     "metadata": {},
     "output_type": "execute_result"
    }
   ],
   "source": [
    "wikileaks_dataframe.head()"
   ]
  },
  {
   "cell_type": "code",
   "execution_count": 86,
   "metadata": {},
   "outputs": [
    {
     "data": {
      "text/html": [
       "<div>\n",
       "<style scoped>\n",
       "    .dataframe tbody tr th:only-of-type {\n",
       "        vertical-align: middle;\n",
       "    }\n",
       "\n",
       "    .dataframe tbody tr th {\n",
       "        vertical-align: top;\n",
       "    }\n",
       "\n",
       "    .dataframe thead th {\n",
       "        text-align: right;\n",
       "    }\n",
       "</style>\n",
       "<table border=\"1\" class=\"dataframe\">\n",
       "  <thead>\n",
       "    <tr style=\"text-align: right;\">\n",
       "      <th></th>\n",
       "      <th>Month</th>\n",
       "      <th>Total</th>\n",
       "    </tr>\n",
       "  </thead>\n",
       "  <tbody>\n",
       "    <tr>\n",
       "      <th>0</th>\n",
       "      <td>Jan</td>\n",
       "      <td>999</td>\n",
       "    </tr>\n",
       "    <tr>\n",
       "      <th>1</th>\n",
       "      <td>Feb</td>\n",
       "      <td>1164</td>\n",
       "    </tr>\n",
       "    <tr>\n",
       "      <th>2</th>\n",
       "      <td>Mar</td>\n",
       "      <td>1035</td>\n",
       "    </tr>\n",
       "    <tr>\n",
       "      <th>3</th>\n",
       "      <td>Apr</td>\n",
       "      <td>1403</td>\n",
       "    </tr>\n",
       "    <tr>\n",
       "      <th>4</th>\n",
       "      <td>May</td>\n",
       "      <td>1993</td>\n",
       "    </tr>\n",
       "  </tbody>\n",
       "</table>\n",
       "</div>"
      ],
      "text/plain": [
       "  Month  Total\n",
       "0   Jan    999\n",
       "1   Feb   1164\n",
       "2   Mar   1035\n",
       "3   Apr   1403\n",
       "4   May   1993"
      ]
     },
     "execution_count": 86,
     "metadata": {},
     "output_type": "execute_result"
    }
   ],
   "source": [
    "#Number of deaths per month. (Month is a categorical variable)\n",
    "\n",
    "months_total = { #create empty dictionary for each month to later load and make into dataframe\n",
    "    \"Jan\": 0, \n",
    "    \"Feb\": 0, \n",
    "    \"Mar\": 0, \n",
    "    \"Apr\": 0, \n",
    "    \"May\": 0, \n",
    "    \"Jun\": 0, \n",
    "    \"Jul\": 0, \n",
    "    \"Aug\": 0, \n",
    "    \"Sep\": 0, \n",
    "    \"Oct\": 0, \n",
    "    \"Nov\": 0, \n",
    "    \"Dec\": 0\n",
    "}\n",
    "\n",
    "for index, row in wikileaks_dataframe.iterrows(): #for every row of the dataframe\n",
    "    current_month=row[\"Month\"][0:3] #take the first three letters of the month\n",
    "    #calculate the total casualiatilies by adding up each column of that row (not year), add it to the right key value in dictionary\n",
    "    months_total[current_month]+=row[\"Taliban\"] + row[\"Civilians\"] + row[\"Afghan forces\"] \\\n",
    "        + row[\"Nato (detailed in spreadsheet)\"] + row[\"Nato - official figures\"] \n",
    "    \n",
    "\n",
    "months_dataframe = pd.DataFrame(list(months_total.items()), columns=['Month', 'Total']) #make the months dictionary into a list\n",
    "months_dataframe.head() #display new month dataframe"
   ]
  },
  {
   "cell_type": "code",
   "execution_count": 87,
   "metadata": {},
   "outputs": [
    {
     "data": {
      "text/plain": [
       "<Axes: title={'center': 'Bar graph to show total casualities for each month'}, xlabel='Month'>"
      ]
     },
     "execution_count": 87,
     "metadata": {},
     "output_type": "execute_result"
    },
    {
     "data": {
      "image/png": "[encoded data removed]",
      "text/plain": [
       "<Figure size 1000x600 with 1 Axes>"
      ]
     },
     "metadata": {},
     "output_type": "display_data"
    }
   ],
   "source": [
    "#vertical bar graph of casualities in each month via pandas\n",
    "months_dataframe.plot(x='Month', y='Total', kind='bar', color='skyblue', figsize=(10, 6), grid=True, title='Bar graph to show total casualities for each month', legend=False) "
   ]
  },
  {
   "cell_type": "code",
   "execution_count": 88,
   "metadata": {},
   "outputs": [
    {
     "data": {
      "text/plain": [
       "<Axes: title={'center': 'Bar graph to show total casualities for each month'}, ylabel='Month'>"
      ]
     },
     "execution_count": 88,
     "metadata": {},
     "output_type": "execute_result"
    },
    {
     "data": {
      "image/png": "[encoded data removed]",
      "text/plain": [
       "<Figure size 1000x600 with 1 Axes>"
      ]
     },
     "metadata": {},
     "output_type": "display_data"
    }
   ],
   "source": [
    "#horiziontal plot\n",
    "months_dataframe.plot(x='Month', y='Total', kind='barh', color='skyblue', figsize=(10, 6), grid=True, title='Bar graph to show total casualities for each month', legend=False)"
   ]
  },
  {
   "cell_type": "markdown",
   "metadata": {},
   "source": [
    "When the bar graph becomes horizontal, it is much easier to read the month (the categorical variable) as apposed to when the months were displayed at 180 degrees in the vertical bar chart."
   ]
  },
  {
   "cell_type": "markdown",
   "metadata": {},
   "source": [
    "## Question 4\n",
    "a) Write a loop that iterates through each row of a DataFrame and prints the value of one specific column.\n",
    "\n",
    "b) Modify the loop so that it extracts rows where a numeric column value is greater than a threshold and stores these rows in a new DataFrame."
   ]
  },
  {
   "cell_type": "markdown",
   "metadata": {},
   "source": [
    "a) loop prints out one columns in iteration"
   ]
  },
  {
   "cell_type": "code",
   "execution_count": 89,
   "metadata": {},
   "outputs": [
    {
     "name": "stdout",
     "output_type": "stream",
     "text": [
      "23\n",
      "4\n",
      "0\n",
      "19\n",
      "56\n",
      "14\n",
      "19\n",
      "10\n",
      "16\n",
      "14\n",
      "36\n",
      "7\n",
      "27\n",
      "0\n",
      "2\n",
      "4\n",
      "25\n",
      "4\n",
      "29\n",
      "10\n",
      "29\n",
      "10\n",
      "24\n",
      "16\n",
      "14\n",
      "106\n",
      "61\n",
      "43\n",
      "50\n",
      "39\n",
      "36\n",
      "42\n",
      "97\n",
      "70\n",
      "14\n",
      "36\n",
      "49\n",
      "35\n",
      "48\n",
      "68\n",
      "125\n",
      "98\n",
      "114\n",
      "89\n",
      "144\n",
      "75\n",
      "67\n",
      "55\n",
      "48\n",
      "35\n",
      "19\n",
      "86\n",
      "65\n",
      "58\n",
      "100\n",
      "61\n",
      "57\n",
      "54\n",
      "68\n",
      "52\n",
      "34\n",
      "69\n",
      "94\n",
      "73\n",
      "118\n",
      "133\n",
      "80\n",
      "190\n",
      "133\n",
      "86\n",
      "69\n",
      "65\n"
     ]
    }
   ],
   "source": [
    "def print_each_row(column, dataframe): #define function where you input a dataframe and target column\n",
    "    for row_value in dataframe[column]: #for every row within that column\n",
    "        print(row_value) #print that row\n",
    "\n",
    "print_each_row(\"Afghan forces\", wikileaks_dataframe) #test with Afghan column and wikileaks dataframe"
   ]
  },
  {
   "cell_type": "markdown",
   "metadata": {},
   "source": [
    "b) function that creates new dataframe with one column of values above threshold"
   ]
  },
  {
   "cell_type": "code",
   "execution_count": 90,
   "metadata": {},
   "outputs": [
    {
     "data": {
      "text/html": [
       "<div>\n",
       "<style scoped>\n",
       "    .dataframe tbody tr th:only-of-type {\n",
       "        vertical-align: middle;\n",
       "    }\n",
       "\n",
       "    .dataframe tbody tr th {\n",
       "        vertical-align: top;\n",
       "    }\n",
       "\n",
       "    .dataframe thead th {\n",
       "        text-align: right;\n",
       "    }\n",
       "</style>\n",
       "<table border=\"1\" class=\"dataframe\">\n",
       "  <thead>\n",
       "    <tr style=\"text-align: right;\">\n",
       "      <th></th>\n",
       "      <th>Afghan forces</th>\n",
       "    </tr>\n",
       "  </thead>\n",
       "  <tbody>\n",
       "    <tr>\n",
       "      <th>0</th>\n",
       "      <td>23</td>\n",
       "    </tr>\n",
       "    <tr>\n",
       "      <th>1</th>\n",
       "      <td>19</td>\n",
       "    </tr>\n",
       "    <tr>\n",
       "      <th>2</th>\n",
       "      <td>56</td>\n",
       "    </tr>\n",
       "    <tr>\n",
       "      <th>3</th>\n",
       "      <td>14</td>\n",
       "    </tr>\n",
       "    <tr>\n",
       "      <th>4</th>\n",
       "      <td>19</td>\n",
       "    </tr>\n",
       "  </tbody>\n",
       "</table>\n",
       "</div>"
      ],
      "text/plain": [
       "   Afghan forces\n",
       "0             23\n",
       "1             19\n",
       "2             56\n",
       "3             14\n",
       "4             19"
      ]
     },
     "execution_count": 90,
     "metadata": {},
     "output_type": "execute_result"
    }
   ],
   "source": [
    "def extract_row_threshold(column, dataframe, threshold): #define new function with threshold input\n",
    "    extracted_values=[] #empty list to extract values into that are above threshold\n",
    "    for row_value in dataframe[column]: #for every row in the target column\n",
    "        if row_value >  threshold: #if that value is larger than threshold\n",
    "            extracted_values.append(row_value) #add that value to the extract values list\n",
    "    new_data = {column:extracted_values} # create a dictionary of one column with the extracted values above the threshold\n",
    "    new_dataframe = pd.DataFrame(new_data) #turn this dictionary to a pandas dataframe\n",
    "    return new_dataframe #return pandas df\n",
    "\n",
    "new_dataframe = extract_row_threshold(\"Afghan forces\", wikileaks_dataframe, 10) #test with threshold 10\n",
    "\n",
    "new_dataframe.head() #display new table\n"
   ]
  },
  {
   "cell_type": "markdown",
   "metadata": {},
   "source": [
    "## Question 5\n",
    "a) Crate a list containing the names \"Civilians\" and \"Afghan forces\"\n",
    "\n",
    "b) From the imported data keep the the values from these two columns only. Keep in mind that \"Year\" and \"Month\" identify each column and sould remain in the dataset.\n",
    "\n",
    "c) Obtain a monthly total count of casualties for these two groups and create a line and a bar plot of them.\n"
   ]
  },
  {
   "cell_type": "code",
   "execution_count": 91,
   "metadata": {},
   "outputs": [
    {
     "data": {
      "text/html": [
       "<div>\n",
       "<style scoped>\n",
       "    .dataframe tbody tr th:only-of-type {\n",
       "        vertical-align: middle;\n",
       "    }\n",
       "\n",
       "    .dataframe tbody tr th {\n",
       "        vertical-align: top;\n",
       "    }\n",
       "\n",
       "    .dataframe thead th {\n",
       "        text-align: right;\n",
       "    }\n",
       "</style>\n",
       "<table border=\"1\" class=\"dataframe\">\n",
       "  <thead>\n",
       "    <tr style=\"text-align: right;\">\n",
       "      <th></th>\n",
       "      <th>Year</th>\n",
       "      <th>Month</th>\n",
       "      <th>Taliban</th>\n",
       "      <th>Civilians</th>\n",
       "      <th>Afghan forces</th>\n",
       "      <th>Nato (detailed in spreadsheet)</th>\n",
       "      <th>Nato - official figures</th>\n",
       "    </tr>\n",
       "  </thead>\n",
       "  <tbody>\n",
       "    <tr>\n",
       "      <th>0</th>\n",
       "      <td>2004</td>\n",
       "      <td>January</td>\n",
       "      <td>15</td>\n",
       "      <td>51</td>\n",
       "      <td>23</td>\n",
       "      <td>0</td>\n",
       "      <td>11</td>\n",
       "    </tr>\n",
       "    <tr>\n",
       "      <th>1</th>\n",
       "      <td>2004</td>\n",
       "      <td>February</td>\n",
       "      <td>0</td>\n",
       "      <td>7</td>\n",
       "      <td>4</td>\n",
       "      <td>5</td>\n",
       "      <td>2</td>\n",
       "    </tr>\n",
       "    <tr>\n",
       "      <th>2</th>\n",
       "      <td>2004</td>\n",
       "      <td>March</td>\n",
       "      <td>19</td>\n",
       "      <td>2</td>\n",
       "      <td>0</td>\n",
       "      <td>2</td>\n",
       "      <td>3</td>\n",
       "    </tr>\n",
       "    <tr>\n",
       "      <th>3</th>\n",
       "      <td>2004</td>\n",
       "      <td>April</td>\n",
       "      <td>5</td>\n",
       "      <td>3</td>\n",
       "      <td>19</td>\n",
       "      <td>0</td>\n",
       "      <td>3</td>\n",
       "    </tr>\n",
       "    <tr>\n",
       "      <th>4</th>\n",
       "      <td>2004</td>\n",
       "      <td>May</td>\n",
       "      <td>18</td>\n",
       "      <td>29</td>\n",
       "      <td>56</td>\n",
       "      <td>6</td>\n",
       "      <td>9</td>\n",
       "    </tr>\n",
       "  </tbody>\n",
       "</table>\n",
       "</div>"
      ],
      "text/plain": [
       "   Year     Month  Taliban  Civilians  Afghan forces  \\\n",
       "0  2004   January       15         51             23   \n",
       "1  2004  February        0          7              4   \n",
       "2  2004     March       19          2              0   \n",
       "3  2004     April        5          3             19   \n",
       "4  2004       May       18         29             56   \n",
       "\n",
       "   Nato (detailed in spreadsheet)  Nato - official figures  \n",
       "0                               0                       11  \n",
       "1                               5                        2  \n",
       "2                               2                        3  \n",
       "3                               0                        3  \n",
       "4                               6                        9  "
      ]
     },
     "execution_count": 91,
     "metadata": {},
     "output_type": "execute_result"
    }
   ],
   "source": [
    "wikileaks_dataframe.head()"
   ]
  },
  {
   "cell_type": "code",
   "execution_count": 92,
   "metadata": {},
   "outputs": [
    {
     "data": {
      "text/html": [
       "<div>\n",
       "<style scoped>\n",
       "    .dataframe tbody tr th:only-of-type {\n",
       "        vertical-align: middle;\n",
       "    }\n",
       "\n",
       "    .dataframe tbody tr th {\n",
       "        vertical-align: top;\n",
       "    }\n",
       "\n",
       "    .dataframe thead th {\n",
       "        text-align: right;\n",
       "    }\n",
       "</style>\n",
       "<table border=\"1\" class=\"dataframe\">\n",
       "  <thead>\n",
       "    <tr style=\"text-align: right;\">\n",
       "      <th></th>\n",
       "      <th>Year</th>\n",
       "      <th>Month</th>\n",
       "      <th>Civilians</th>\n",
       "      <th>Afghan forces</th>\n",
       "    </tr>\n",
       "  </thead>\n",
       "  <tbody>\n",
       "    <tr>\n",
       "      <th>0</th>\n",
       "      <td>2004</td>\n",
       "      <td>January</td>\n",
       "      <td>51</td>\n",
       "      <td>23</td>\n",
       "    </tr>\n",
       "    <tr>\n",
       "      <th>1</th>\n",
       "      <td>2004</td>\n",
       "      <td>February</td>\n",
       "      <td>7</td>\n",
       "      <td>4</td>\n",
       "    </tr>\n",
       "    <tr>\n",
       "      <th>2</th>\n",
       "      <td>2004</td>\n",
       "      <td>March</td>\n",
       "      <td>2</td>\n",
       "      <td>0</td>\n",
       "    </tr>\n",
       "    <tr>\n",
       "      <th>3</th>\n",
       "      <td>2004</td>\n",
       "      <td>April</td>\n",
       "      <td>3</td>\n",
       "      <td>19</td>\n",
       "    </tr>\n",
       "    <tr>\n",
       "      <th>4</th>\n",
       "      <td>2004</td>\n",
       "      <td>May</td>\n",
       "      <td>29</td>\n",
       "      <td>56</td>\n",
       "    </tr>\n",
       "  </tbody>\n",
       "</table>\n",
       "</div>"
      ],
      "text/plain": [
       "   Year     Month  Civilians  Afghan forces\n",
       "0  2004   January         51             23\n",
       "1  2004  February          7              4\n",
       "2  2004     March          2              0\n",
       "3  2004     April          3             19\n",
       "4  2004       May         29             56"
      ]
     },
     "execution_count": 92,
     "metadata": {},
     "output_type": "execute_result"
    }
   ],
   "source": [
    "target_list = [\"Civilians\", \"Afghan forces\"] #groups we are interested in \n",
    "columns_to_drop = [\"Taliban\", \"Nato (detailed in spreadsheet)\", \"Nato - official figures\"]  #columns we are not interested in\n",
    "q5_wikileaks_dataframe = wikileaks_dataframe.drop(columns=columns_to_drop) #drop the uninterested columns and create new dataframe for this question\n",
    "q5_wikileaks_dataframe.head() #display new dataframe with dropped columns"
   ]
  },
  {
   "cell_type": "code",
   "execution_count": 93,
   "metadata": {},
   "outputs": [
    {
     "data": {
      "text/html": [
       "<div>\n",
       "<style scoped>\n",
       "    .dataframe tbody tr th:only-of-type {\n",
       "        vertical-align: middle;\n",
       "    }\n",
       "\n",
       "    .dataframe tbody tr th {\n",
       "        vertical-align: top;\n",
       "    }\n",
       "\n",
       "    .dataframe thead th {\n",
       "        text-align: right;\n",
       "    }\n",
       "</style>\n",
       "<table border=\"1\" class=\"dataframe\">\n",
       "  <thead>\n",
       "    <tr style=\"text-align: right;\">\n",
       "      <th></th>\n",
       "      <th>Year</th>\n",
       "      <th>Month</th>\n",
       "      <th>Civilians</th>\n",
       "      <th>Afghan forces</th>\n",
       "      <th>Total</th>\n",
       "    </tr>\n",
       "  </thead>\n",
       "  <tbody>\n",
       "    <tr>\n",
       "      <th>0</th>\n",
       "      <td>2004</td>\n",
       "      <td>January</td>\n",
       "      <td>51</td>\n",
       "      <td>23</td>\n",
       "      <td>74</td>\n",
       "    </tr>\n",
       "    <tr>\n",
       "      <th>1</th>\n",
       "      <td>2004</td>\n",
       "      <td>February</td>\n",
       "      <td>7</td>\n",
       "      <td>4</td>\n",
       "      <td>11</td>\n",
       "    </tr>\n",
       "    <tr>\n",
       "      <th>2</th>\n",
       "      <td>2004</td>\n",
       "      <td>March</td>\n",
       "      <td>2</td>\n",
       "      <td>0</td>\n",
       "      <td>2</td>\n",
       "    </tr>\n",
       "    <tr>\n",
       "      <th>3</th>\n",
       "      <td>2004</td>\n",
       "      <td>April</td>\n",
       "      <td>3</td>\n",
       "      <td>19</td>\n",
       "      <td>22</td>\n",
       "    </tr>\n",
       "    <tr>\n",
       "      <th>4</th>\n",
       "      <td>2004</td>\n",
       "      <td>May</td>\n",
       "      <td>29</td>\n",
       "      <td>56</td>\n",
       "      <td>85</td>\n",
       "    </tr>\n",
       "  </tbody>\n",
       "</table>\n",
       "</div>"
      ],
      "text/plain": [
       "   Year     Month  Civilians  Afghan forces  Total\n",
       "0  2004   January         51             23     74\n",
       "1  2004  February          7              4     11\n",
       "2  2004     March          2              0      2\n",
       "3  2004     April          3             19     22\n",
       "4  2004       May         29             56     85"
      ]
     },
     "execution_count": 93,
     "metadata": {},
     "output_type": "execute_result"
    }
   ],
   "source": [
    "q5_wikileaks_dataframe[\"Total\"] = q5_wikileaks_dataframe[target_list[0]] + q5_wikileaks_dataframe[target_list[1]] #create new column for total Afghan and civilian casualities\n",
    "q5_wikileaks_dataframe.head() #display"
   ]
  },
  {
   "cell_type": "code",
   "execution_count": 94,
   "metadata": {},
   "outputs": [
    {
     "data": {
      "text/html": [
       "<div>\n",
       "<style scoped>\n",
       "    .dataframe tbody tr th:only-of-type {\n",
       "        vertical-align: middle;\n",
       "    }\n",
       "\n",
       "    .dataframe tbody tr th {\n",
       "        vertical-align: top;\n",
       "    }\n",
       "\n",
       "    .dataframe thead th {\n",
       "        text-align: right;\n",
       "    }\n",
       "</style>\n",
       "<table border=\"1\" class=\"dataframe\">\n",
       "  <thead>\n",
       "    <tr style=\"text-align: right;\">\n",
       "      <th></th>\n",
       "      <th>Date</th>\n",
       "      <th>Total</th>\n",
       "    </tr>\n",
       "  </thead>\n",
       "  <tbody>\n",
       "    <tr>\n",
       "      <th>0</th>\n",
       "      <td>Jan04</td>\n",
       "      <td>74</td>\n",
       "    </tr>\n",
       "    <tr>\n",
       "      <th>1</th>\n",
       "      <td>Feb04</td>\n",
       "      <td>11</td>\n",
       "    </tr>\n",
       "    <tr>\n",
       "      <th>2</th>\n",
       "      <td>Mar04</td>\n",
       "      <td>2</td>\n",
       "    </tr>\n",
       "    <tr>\n",
       "      <th>3</th>\n",
       "      <td>Apr04</td>\n",
       "      <td>22</td>\n",
       "    </tr>\n",
       "    <tr>\n",
       "      <th>4</th>\n",
       "      <td>May04</td>\n",
       "      <td>85</td>\n",
       "    </tr>\n",
       "  </tbody>\n",
       "</table>\n",
       "</div>"
      ],
      "text/plain": [
       "    Date  Total\n",
       "0  Jan04     74\n",
       "1  Feb04     11\n",
       "2  Mar04      2\n",
       "3  Apr04     22\n",
       "4  May04     85"
      ]
     },
     "execution_count": 94,
     "metadata": {},
     "output_type": "execute_result"
    }
   ],
   "source": [
    "abbreviated_dates = [] #create empty list for new abbreviate month+year date for later use in the graph\n",
    "for index, row in q5_wikileaks_dataframe.iterrows(): #for every row in dataframe\n",
    "    abbreviated_month=row['Month'][0:3] #take the first three letters of the month\n",
    "    abbreviated_year = str(row['Year'])[2:4] #take the last 2 numbers of year\n",
    "    abbreviated_date=abbreviated_month+abbreviated_year #combine these letters and numbers\n",
    "    abbreviated_dates.append(abbreviated_date) #add this total date to all abbreviated dates list\n",
    "\n",
    "concise_q5_data = {\"Date\":abbreviated_dates, \"Total\":q5_wikileaks_dataframe[\"Total\"]} #create new dictionary with abbreviated dates and total casuality values\n",
    "concise_q5_dataframe = pd.DataFrame(concise_q5_data) #convert dictionary into pandas dataframe\n",
    "\n",
    "concise_q5_dataframe.head() #display"
   ]
  },
  {
   "cell_type": "code",
   "execution_count": 95,
   "metadata": {},
   "outputs": [
    {
     "data": {
      "text/plain": [
       "<Axes: title={'center': 'Line graph to show total Afghan and civilian casualities over time (month)'}, xlabel='Date'>"
      ]
     },
     "execution_count": 95,
     "metadata": {},
     "output_type": "execute_result"
    },
    {
     "data": {
      "image/png": "[encoded data removed]",
      "text/plain": [
       "<Figure size 1000x600 with 1 Axes>"
      ]
     },
     "metadata": {},
     "output_type": "display_data"
    }
   ],
   "source": [
    "#line graph using pandas of previous made dataframe\n",
    "concise_q5_dataframe.plot(x='Date', y='Total', kind='line', marker='o', figsize=(10, 6), grid=True, title='Line graph to show total Afghan and civilian casualities over time (month)', legend=False)"
   ]
  },
  {
   "cell_type": "code",
   "execution_count": 96,
   "metadata": {},
   "outputs": [
    {
     "data": {
      "text/plain": [
       "<Axes: title={'center': 'Bar graph to show total Afghan and civilian casualities over time (month)'}, xlabel='Date'>"
      ]
     },
     "execution_count": 96,
     "metadata": {},
     "output_type": "execute_result"
    },
    {
     "data": {
      "image/png": "[encoded data removed]",
      "text/plain": [
       "<Figure size 1000x600 with 1 Axes>"
      ]
     },
     "metadata": {},
     "output_type": "display_data"
    }
   ],
   "source": [
    "#bar graph using pandas\n",
    "concise_q5_dataframe.plot(x='Date', y='Total', kind='bar', color='skyblue', figsize=(10, 6), grid=True, title='Bar graph to show total Afghan and civilian casualities over time (month)', legend=False)"
   ]
  }
 ],
 "metadata": {
  "kernelspec": {
   "display_name": "Python 3 (ipykernel)",
   "language": "python",
   "name": "python3"
  },
  "language_info": {
   "codemirror_mode": {
    "name": "ipython",
    "version": 3
   },
   "file_extension": ".py",
   "mimetype": "text/x-python",
   "name": "python",
   "nbconvert_exporter": "python",
   "pygments_lexer": "ipython3",
   "version": "3.10.12"
  }
 },
 "nbformat": 4,
 "nbformat_minor": 4
}
