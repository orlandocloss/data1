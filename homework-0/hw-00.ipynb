{
 "cells": [
  {
   "cell_type": "markdown",
   "metadata": {},
   "source": [
    "# <img style=\"float: left; padding-right: 10px; width: 200px\" src=\"https://raw.githubusercontent.com/trivikverma/researchgroup/master/assets/media/logo.png\"> EPA-122A *Spatial* Data Science \n",
    "\n",
    "\n",
    "## Homework 0: Introduction to Python and its Numerical Stack\n",
    "\n",
    "**TU Delft**<br>\n",
    "**Q2 2023**<br>\n",
    "**Instructor:** Trivik Verma <br>\n",
    "**[Centre for Urban Science & Policy]( https://cusp.tbm.tudelft.nl/)** <br>\n",
    "\n",
    "\n",
    "---\n",
    "\n"
   ]
  },
  {
   "cell_type": "markdown",
   "metadata": {
    "tags": []
   },
   "source": [
    "# Homework Exercises"
   ]
  },
  {
   "cell_type": "markdown",
   "metadata": {},
   "source": [
    "## Exercise 1\n",
    "### Write a properly documented function with the following behaviour:\n",
    "\n",
    "- It has a meaningful name (i.e. it is related to its behaviour).\n",
    "- It takes an integer that represents the length of a sequence that will be created.\n",
    "- It creates a dictionary that is empty.\n",
    "- It loops over the sequence and stores each number as the key of an entry in the dictionary, assigning either \"odd\" or \"even\" to the value, depending on the type of number.\n",
    "\n",
    "- Returns the dictionary."
   ]
  },
  {
   "cell_type": "code",
   "execution_count": 1,
   "metadata": {},
   "outputs": [
    {
     "name": "stdout",
     "output_type": "stream",
     "text": [
      "{0: 'even', 1: 'odd', 2: 'even', 3: 'odd', 4: 'even', 5: 'odd', 6: 'even', 7: 'odd', 8: 'even', 9: 'odd'}\n"
     ]
    }
   ],
   "source": [
    "def odd_or_even(n): #define function to check if odd or even\n",
    "    if n % 2 == 0: #checks if number is even with modulo\n",
    "        return 'even'\n",
    "    else:  #if not even then its odd\n",
    "        return 'odd'\n",
    "\n",
    "def make_oddeven_dictionary(n): #define function to form the dictionary\n",
    "    dictionary = {} #make empty dictionary to add into\n",
    "    for i in range(n): #grabs all numbers up to n (including 0) therefore it will have length n\n",
    "        oddeven = odd_or_even(i) #checks if odd or even\n",
    "        dictionary[i]  = oddeven #adds the current integer i to the dictionary with its odd or even entry\n",
    "    return dictionary\n",
    "\n",
    "print(make_oddeven_dictionary(10))"
   ]
  },
  {
   "cell_type": "markdown",
   "metadata": {},
   "source": [
    "## Exercise 2\n",
    "### Create a tuple called `tup` with the following seven objects: \n",
    "\n",
    "- The first element is an integer of your choice\n",
    "- The second element is a float of your choice  \n",
    "- The third element is the sum of the first two elements\n",
    "- The fourth element is the difference of the first two elements\n",
    "- The fifth element is the first element divided by the second element\n",
    "\n",
    "- Display the output of `tup`.  What is the type of the variable `tup`? What happens if you try and chage an item in the tuple? "
   ]
  },
  {
   "cell_type": "code",
   "execution_count": 1,
   "metadata": {},
   "outputs": [
    {
     "name": "stdout",
     "output_type": "stream",
     "text": [
      "(2, 3.5, 5.5, 1.5, 0.5714285714285714)\n",
      "<class 'tuple'>\n"
     ]
    }
   ],
   "source": [
    "first_element = int(2) #first element is integer\n",
    "second_element = float(3.5) #second element is float\n",
    "third_element = first_element + second_element #third element is sum of first two \n",
    "fourth_element = second_element - first_element #fourth element is difference between first two (highest goes first)\n",
    "fifth_element = first_element / second_element # fifth element is first divided by second\n",
    "\n",
    "tup = (first_element, second_element, third_element, fourth_element, fifth_element) #make tuple (use normal brackets)\n",
    "\n",
    "print(tup)\n",
    "print(type(tup))\n"
   ]
  },
  {
   "cell_type": "code",
   "execution_count": 2,
   "metadata": {},
   "outputs": [
    {
     "ename": "TypeError",
     "evalue": "'tuple' object does not support item assignment",
     "output_type": "error",
     "traceback": [
      "\u001b[0;31m---------------------------------------------------------------------------\u001b[0m",
      "\u001b[0;31mTypeError\u001b[0m                                 Traceback (most recent call last)",
      "Cell \u001b[0;32mIn[2], line 3\u001b[0m\n\u001b[1;32m      1\u001b[0m \u001b[38;5;66;03m#What happens if you tru and change an item in a tuple?\u001b[39;00m\n\u001b[0;32m----> 3\u001b[0m \u001b[43mtup\u001b[49m\u001b[43m[\u001b[49m\u001b[38;5;241;43m0\u001b[39;49m\u001b[43m]\u001b[49m \u001b[38;5;241m=\u001b[39m \u001b[38;5;241m43\u001b[39m\n",
      "\u001b[0;31mTypeError\u001b[0m: 'tuple' object does not support item assignment"
     ]
    }
   ],
   "source": [
    "#What happens if you try and change an item in a tuple?\n",
    "\n",
    "tup[0] = 43"
   ]
  },
  {
   "cell_type": "markdown",
   "metadata": {},
   "source": [
    "### What happens if you tru and change an item in a tuple?\n",
    "\n",
    "Once a tuple is created, one cannot modify its contents."
   ]
  },
  {
   "cell_type": "markdown",
   "metadata": {},
   "source": [
    "## Exercise 3\n",
    "### Build a list that contains every prime number between 1 and 100, in two different ways:\n",
    "    \n",
    "1. Using for loops and conditional if statements.\n",
    "2. **(Stretch Goal)** Using a list comprehension.  You should be able to do this in one line of code. **Hint:** it might help to look up the function `all()` in the documentation."
   ]
  },
  {
   "cell_type": "code",
   "execution_count": 4,
   "metadata": {},
   "outputs": [
    {
     "name": "stdout",
     "output_type": "stream",
     "text": [
      "[2, 3, 5, 7, 11, 13, 17, 19, 23, 29, 31, 37, 41, 43, 47, 53, 59, 61, 67, 71, 73, 79, 83, 89, 97]\n",
      "[2, 3, 5, 7, 11, 13, 17, 19, 23, 29, 31, 37, 41, 43, 47, 53, 59, 61, 67, 71, 73, 79, 83, 89, 97]\n"
     ]
    }
   ],
   "source": [
    "#1 \"for and if\"\n",
    "\n",
    "def make_primes_list(n): #define function where user inputs end of range (n or 100)\n",
    "    primes=[] #create empty list to append primes to\n",
    "    for i in range(2, n+1): #go through every number till and including n, (1 is not prime so can start at 2)\n",
    "        prime = True #assume the number is a prime\n",
    "        for j in range(2,i): #check every number before current number (apart from 1 as everything is divisible by 1)\n",
    "            if (i % j == 0) and i!=2: #check if current number has a factor. (make sure both i and j are not 2 as 2 is prime and 2%2 =0)\n",
    "                prime = False #if there is a factor we know i is not prime\n",
    "        \n",
    "        if prime == True: #if after going through all numbers before prime is still True i is a prime\n",
    "            primes.append(i) #add the prime to the empty list\n",
    "    return primes\n",
    "\n",
    "print(make_primes_list(100)) #execute function with n=100\n",
    "\n",
    "#2 \"list comprehension\"\n",
    "\n",
    "# for every i from 2 to 100 if all the numbers before it are not a factor then store in primes list.\n",
    "#\"or\" clause of \"i==2\" because if i=2 also j=2 and 2%2=0 but 2 is prime.\n",
    "\n",
    "primes = [i for i in range(2,101) if all(((i % j != 0) or i==2) for j in range(2,i))] \n",
    "\n",
    "print(primes)"
   ]
  },
  {
   "cell_type": "markdown",
   "metadata": {},
   "source": [
    "## Exercise 4\n",
    "### Write a function to test the \"prime-ness\" of a number.\n",
    "    \n",
    "In Exercise 4, above, you wrote code that generated a list of the prime numbers between 1 and 100. Now, write a function called `isprime()` that takes in a positive integer $N$, and determines whether or not it is prime.  Return `True` if it's prime and return `False` if it isn't. Then, using a list comprehension and `isprime()`, create a list `myprimes` that contains all the prime numbers less than 100.  "
   ]
  },
  {
   "cell_type": "code",
   "execution_count": 6,
   "metadata": {},
   "outputs": [
    {
     "name": "stdout",
     "output_type": "stream",
     "text": [
      "[2, 3, 5, 7, 11, 13, 17, 19, 23, 29, 31, 37, 41, 43, 47, 53, 59, 61, 67, 71, 73, 79, 83, 89, 97]\n"
     ]
    }
   ],
   "source": [
    "def isprime(n): #define function where input is the number to check \"prime-ness\"\n",
    "    prime = True #assume n is a prime number\n",
    "    for i in range(2,n): #check all numbers before n (except 1)\n",
    "        if n % i == 0 and n != 2: #if n has a factor and not(n=i=2) \n",
    "            prime = False #then n is not a prime\n",
    "    return prime\n",
    "\n",
    "#for every number from 2 to and including 100 check if it is a prime using previous isprime function\n",
    "#if it is a prime add to list through list comprehension\n",
    "\n",
    "primes = [i for i in range(2,101) if isprime(i) == True] \n",
    "\n",
    "print(primes)"
   ]
  },
  {
   "cell_type": "markdown",
   "metadata": {},
   "source": [
    "---"
   ]
  },
  {
   "cell_type": "markdown",
   "metadata": {},
   "source": [
    "## Optional Exercise\n",
    "### Try to reproduce, using markdown and the different tools the notebook affords you, the following WikiPedia entry:\n",
    "\n",
    "\n",
    "> https://en.wikipedia.org/wiki/Puppy\n"
   ]
  },
  {
   "cell_type": "code",
   "execution_count": 1,
   "metadata": {},
   "outputs": [
    {
     "data": {
      "text/html": [
       "\n",
       "        <iframe\n",
       "            width=\"700\"\n",
       "            height=\"500\"\n",
       "            src=\"https://en.wikipedia.org/wiki/Puppy\"\n",
       "            frameborder=\"0\"\n",
       "            allowfullscreen\n",
       "            \n",
       "        ></iframe>\n",
       "        "
      ],
      "text/plain": [
       "<IPython.lib.display.IFrame at 0x7e093426f3d0>"
      ]
     },
     "execution_count": 1,
     "metadata": {},
     "output_type": "execute_result"
    }
   ],
   "source": [
    "from IPython.display import IFrame\n",
    "IFrame('https://en.wikipedia.org/wiki/Puppy', 700, 500)"
   ]
  },
  {
   "cell_type": "markdown",
   "metadata": {},
   "source": [
    "Do not over think it. Focuse and pay special attention to getting the bold, italics, links, headlines and lists correctly formated, but don't worry too much about the overall layout. Bonus if you manage to insert the image as well (it does not need to be properly placed as in the original page)!"
   ]
  },
  {
   "cell_type": "code",
   "execution_count": 7,
   "metadata": {},
   "outputs": [
    {
     "data": {
      "text/markdown": [
       "\n",
       "# **Puppy** \n",
       "\n",
       "A **puppy** is a juvenile dog. Some puppies can weigh 1–1.5 kg (2.2–3.3 lb), while larger ones can weigh over 7 kg (15 lb). All puppies display primary altriciality and healthy puppies grow quickly after birth. A puppy's coat color may change as the puppy grows older, as is commonly seen in breeds such as the Yorkshire Terrier. Puppy refers specifically to young dogs,[1] while pup may be used for other animals such as wolves, seals, giraffes, guinea pigs, rats or sharks.[2]\n",
       "\n",
       "## Prenatal development\n",
       "Dogs go through prenatal development before they are born, just like all animals do. The germinal stage, the embryonic stage, and the fetal stage are the three phases that make up this development.\n",
       "\n",
       "The first stage of prenatal growth in dogs is known as the germinal stage, which starts at fertilization and lasts for about two weeks. The fertilized egg, also known as the zygote, travels through the fallopian tube to the uterus during this period while undergoing rapid cell division. The placenta, which will feed the growing puppy, is formed once the zygote enters the uterus and settles in the uterine wall.[3]\n",
       "\n",
       "The embryonic period lasts from about day 14 of pregnancy until day 28 or so. With the growth of important organs and body systems, the embryo starts to take on a more recognizable shape at this stage. This involves the development of the digestive system, brain, heart, and lungs. An ultrasound can show the embryo at this time, which is about the size of a grape.[4]\n",
       "\n",
       "Around day 28 is when the fetal period starts, and it lasts until day 63, when the puppy is born. The puppy's organs and systems continue to develop and refine during this period of growth and development. It also involves the ability to control its own body temperature as well as the maturation of the senses, such as hearing and sight. The puppy is completely developed and prepared for birth by the time the fetal period is over.[5]\n",
       "\n",
       "## Development\n",
       "Puppies are born after an average of 63 days of gestation, emerging in an amnion that is bitten off and eaten by the mother dog.[6] Puppies begin to nurse almost immediately. If the litter exceeds six puppies, particularly if one or more are obvious runts, human intervention in hand-feeding the stronger puppies is necessary to ensure that the runts get proper nourishment and attention from the mother. As they reach one month of age, puppies are gradually weaned and begin to eat solid food. The mother may regurgitate partially digested food for the puppies or might let them eat some of her solid food.[7] The mother usually refuses to nurse at this stage, though she might let them occasionally nurse for comfort.\n",
       "\n",
       "At first, puppies spend the large majority of their time sleeping and the rest feeding. They instinctively pile together into a heap, and become distressed if separated from physical contact with their littermates by even a short distance.[8]\n",
       "\n",
       "Puppies are born with a fully functional sense of smell. They are unable to open their eyes. During their first two weeks, a puppy's senses all develop rapidly. During this stage the nose is the primary sense organ used by puppies to find their mother's teats, and to locate their littermates, if they become separated by a short distance. Puppies open their eyes about nine to eleven days following birth. At first, their retinas are poorly developed and their vision is poor. Puppies are not able to see as well as adult dogs. In addition, puppies' ears remain sealed until about thirteen to seventeen days after birth, after which they respond more actively to sounds. Between two and four weeks old, puppies usually begin to growl, bite, wag their tails, and bark.[9]\n",
       "\n",
       "Puppies develop very quickly during their first three months, particularly after their eyes and ears open and they are no longer completely dependent on their mother. Their coordination and strength improve, they spar with their littermates, and begin to explore the world outside the nest. They play wrestling, chase, dominance, and tug-of-war games.\n",
       "\n",
       "## Socialization\n",
       "Puppies are highly social animals and spend most of their waking hours interacting with either their mother or littermates. When puppies are socialized with humans, particularly between the ages of eight and twelve weeks, they develop social skills around people. Those that do not receive adequate socialization during this period may display fearful behavior around humans or other dogs as adults. The optimum period for socialisation is between eight and twelve weeks; professional animal trainers and the American Kennel Club advise puppies should be introduced to \"100 People by 12 Weeks\" and have encountered a wide and varied selection of people and environments.[10]\n",
       "\n",
       "## Docking and declawing\n",
       "The practice of docking began primarily as a preventive measure for injury among working dogs. Docking is now primarily performed for purely cosmetic reasons, and some breeds traditionally have their tails cropped anywhere from slightly to almost entirely.[11] Many countries now ban cropping and docking for cosmetic purposes, including Australia, parts of Canada, the majority of the European countries (Austria, Greece, Finland, Netherlands, Italy, the Czech Republic, Turkey, Poland, Slovakia, England, Scotland, Slovenia, Ireland, Norway and Sweden), while others, such as the United States, permit it. As of 2008, the practice is opposed by the American Veterinary Medical Association.[12] Some breeders also prefer to declaw the dogs to prevent future injuries caused by scratching, or in the case of dewclaws, ingrown and ripped-off nails. Docking and declawing procedures are usually performed within the first few days after birth, by a veterinarian, or by an experienced breeder.\n",
       "\n"
      ],
      "text/plain": [
       "<IPython.core.display.Markdown object>"
      ]
     },
     "metadata": {},
     "output_type": "display_data"
    },
    {
     "data": {
      "image/jpeg": "[encoded data removed]",
      "text/plain": [
       "<IPython.core.display.Image object>"
      ]
     },
     "execution_count": 7,
     "metadata": {},
     "output_type": "execute_result"
    }
   ],
   "source": [
    "from IPython.display import Markdown, display, Image \n",
    "#import Image for images, Markdown for text formatting and display present Markdown\n",
    "\n",
    "content = \"\"\"\n",
    "# **Puppy** \n",
    "\n",
    "A **puppy** is a juvenile dog. Some puppies can weigh 1–1.5 kg (2.2–3.3 lb), while larger ones can weigh over 7 kg (15 lb). All puppies display primary altriciality and healthy puppies grow quickly after birth. A puppy's coat color may change as the puppy grows older, as is commonly seen in breeds such as the Yorkshire Terrier. Puppy refers specifically to young dogs,[1] while pup may be used for other animals such as wolves, seals, giraffes, guinea pigs, rats or sharks.[2]\n",
    "\n",
    "## Prenatal development\n",
    "Dogs go through prenatal development before they are born, just like all animals do. The germinal stage, the embryonic stage, and the fetal stage are the three phases that make up this development.\n",
    "\n",
    "The first stage of prenatal growth in dogs is known as the germinal stage, which starts at fertilization and lasts for about two weeks. The fertilized egg, also known as the zygote, travels through the fallopian tube to the uterus during this period while undergoing rapid cell division. The placenta, which will feed the growing puppy, is formed once the zygote enters the uterus and settles in the uterine wall.[3]\n",
    "\n",
    "The embryonic period lasts from about day 14 of pregnancy until day 28 or so. With the growth of important organs and body systems, the embryo starts to take on a more recognizable shape at this stage. This involves the development of the digestive system, brain, heart, and lungs. An ultrasound can show the embryo at this time, which is about the size of a grape.[4]\n",
    "\n",
    "Around day 28 is when the fetal period starts, and it lasts until day 63, when the puppy is born. The puppy's organs and systems continue to develop and refine during this period of growth and development. It also involves the ability to control its own body temperature as well as the maturation of the senses, such as hearing and sight. The puppy is completely developed and prepared for birth by the time the fetal period is over.[5]\n",
    "\n",
    "## Development\n",
    "Puppies are born after an average of 63 days of gestation, emerging in an amnion that is bitten off and eaten by the mother dog.[6] Puppies begin to nurse almost immediately. If the litter exceeds six puppies, particularly if one or more are obvious runts, human intervention in hand-feeding the stronger puppies is necessary to ensure that the runts get proper nourishment and attention from the mother. As they reach one month of age, puppies are gradually weaned and begin to eat solid food. The mother may regurgitate partially digested food for the puppies or might let them eat some of her solid food.[7] The mother usually refuses to nurse at this stage, though she might let them occasionally nurse for comfort.\n",
    "\n",
    "At first, puppies spend the large majority of their time sleeping and the rest feeding. They instinctively pile together into a heap, and become distressed if separated from physical contact with their littermates by even a short distance.[8]\n",
    "\n",
    "Puppies are born with a fully functional sense of smell. They are unable to open their eyes. During their first two weeks, a puppy's senses all develop rapidly. During this stage the nose is the primary sense organ used by puppies to find their mother's teats, and to locate their littermates, if they become separated by a short distance. Puppies open their eyes about nine to eleven days following birth. At first, their retinas are poorly developed and their vision is poor. Puppies are not able to see as well as adult dogs. In addition, puppies' ears remain sealed until about thirteen to seventeen days after birth, after which they respond more actively to sounds. Between two and four weeks old, puppies usually begin to growl, bite, wag their tails, and bark.[9]\n",
    "\n",
    "Puppies develop very quickly during their first three months, particularly after their eyes and ears open and they are no longer completely dependent on their mother. Their coordination and strength improve, they spar with their littermates, and begin to explore the world outside the nest. They play wrestling, chase, dominance, and tug-of-war games.\n",
    "\n",
    "## Socialization\n",
    "Puppies are highly social animals and spend most of their waking hours interacting with either their mother or littermates. When puppies are socialized with humans, particularly between the ages of eight and twelve weeks, they develop social skills around people. Those that do not receive adequate socialization during this period may display fearful behavior around humans or other dogs as adults. The optimum period for socialisation is between eight and twelve weeks; professional animal trainers and the American Kennel Club advise puppies should be introduced to \"100 People by 12 Weeks\" and have encountered a wide and varied selection of people and environments.[10]\n",
    "\n",
    "## Docking and declawing\n",
    "The practice of docking began primarily as a preventive measure for injury among working dogs. Docking is now primarily performed for purely cosmetic reasons, and some breeds traditionally have their tails cropped anywhere from slightly to almost entirely.[11] Many countries now ban cropping and docking for cosmetic purposes, including Australia, parts of Canada, the majority of the European countries (Austria, Greece, Finland, Netherlands, Italy, the Czech Republic, Turkey, Poland, Slovakia, England, Scotland, Slovenia, Ireland, Norway and Sweden), while others, such as the United States, permit it. As of 2008, the practice is opposed by the American Veterinary Medical Association.[12] Some breeders also prefer to declaw the dogs to prevent future injuries caused by scratching, or in the case of dewclaws, ingrown and ripped-off nails. Docking and declawing procedures are usually performed within the first few days after birth, by a veterinarian, or by an experienced breeder.\n",
    "\n",
    "\"\"\"\n",
    "\n",
    "display(Markdown(content))\n",
    "#source: https://stackoverflow.com/questions/36288670/how-to-programmatically-generate-markdown-output-in-jupyter-notebooks\n",
    "\n",
    "Image(\"figs/gold.jpg\")  #display image static\n"
   ]
  }
 ],
 "metadata": {
  "kernelspec": {
   "display_name": "env",
   "language": "python",
   "name": "python3"
  },
  "language_info": {
   "codemirror_mode": {
    "name": "ipython",
    "version": 3
   },
   "file_extension": ".py",
   "mimetype": "text/x-python",
   "name": "python",
   "nbconvert_exporter": "python",
   "pygments_lexer": "ipython3",
   "version": "3.10.12"
  }
 },
 "nbformat": 4,
 "nbformat_minor": 4
}
